{
 "cells": [
  {
   "cell_type": "code",
   "execution_count": 1,
   "metadata": {
    "scrolled": false
   },
   "outputs": [
    {
     "data": {
      "text/html": [
       "<div>\n",
       "<style scoped>\n",
       "    .dataframe tbody tr th:only-of-type {\n",
       "        vertical-align: middle;\n",
       "    }\n",
       "\n",
       "    .dataframe tbody tr th {\n",
       "        vertical-align: top;\n",
       "    }\n",
       "\n",
       "    .dataframe thead th {\n",
       "        text-align: right;\n",
       "    }\n",
       "</style>\n",
       "<table border=\"1\" class=\"dataframe\">\n",
       "  <thead>\n",
       "    <tr style=\"text-align: right;\">\n",
       "      <th></th>\n",
       "      <th>PassengerId</th>\n",
       "      <th>Survived</th>\n",
       "      <th>Pclass</th>\n",
       "      <th>Name</th>\n",
       "      <th>Sex</th>\n",
       "      <th>Age</th>\n",
       "      <th>SibSp</th>\n",
       "      <th>Parch</th>\n",
       "      <th>Ticket</th>\n",
       "      <th>Fare</th>\n",
       "      <th>Cabin</th>\n",
       "      <th>Embarked</th>\n",
       "    </tr>\n",
       "  </thead>\n",
       "  <tbody>\n",
       "    <tr>\n",
       "      <th>0</th>\n",
       "      <td>1</td>\n",
       "      <td>0</td>\n",
       "      <td>3</td>\n",
       "      <td>Braund, Mr. Owen Harris</td>\n",
       "      <td>male</td>\n",
       "      <td>22.0</td>\n",
       "      <td>1</td>\n",
       "      <td>0</td>\n",
       "      <td>A/5 21171</td>\n",
       "      <td>7.2500</td>\n",
       "      <td>NaN</td>\n",
       "      <td>S</td>\n",
       "    </tr>\n",
       "    <tr>\n",
       "      <th>1</th>\n",
       "      <td>2</td>\n",
       "      <td>1</td>\n",
       "      <td>1</td>\n",
       "      <td>Cumings, Mrs. John Bradley (Florence Briggs Th...</td>\n",
       "      <td>female</td>\n",
       "      <td>38.0</td>\n",
       "      <td>1</td>\n",
       "      <td>0</td>\n",
       "      <td>PC 17599</td>\n",
       "      <td>71.2833</td>\n",
       "      <td>C85</td>\n",
       "      <td>C</td>\n",
       "    </tr>\n",
       "    <tr>\n",
       "      <th>2</th>\n",
       "      <td>3</td>\n",
       "      <td>1</td>\n",
       "      <td>3</td>\n",
       "      <td>Heikkinen, Miss. Laina</td>\n",
       "      <td>female</td>\n",
       "      <td>26.0</td>\n",
       "      <td>0</td>\n",
       "      <td>0</td>\n",
       "      <td>STON/O2. 3101282</td>\n",
       "      <td>7.9250</td>\n",
       "      <td>NaN</td>\n",
       "      <td>S</td>\n",
       "    </tr>\n",
       "    <tr>\n",
       "      <th>3</th>\n",
       "      <td>4</td>\n",
       "      <td>1</td>\n",
       "      <td>1</td>\n",
       "      <td>Futrelle, Mrs. Jacques Heath (Lily May Peel)</td>\n",
       "      <td>female</td>\n",
       "      <td>35.0</td>\n",
       "      <td>1</td>\n",
       "      <td>0</td>\n",
       "      <td>113803</td>\n",
       "      <td>53.1000</td>\n",
       "      <td>C123</td>\n",
       "      <td>S</td>\n",
       "    </tr>\n",
       "    <tr>\n",
       "      <th>4</th>\n",
       "      <td>5</td>\n",
       "      <td>0</td>\n",
       "      <td>3</td>\n",
       "      <td>Allen, Mr. William Henry</td>\n",
       "      <td>male</td>\n",
       "      <td>35.0</td>\n",
       "      <td>0</td>\n",
       "      <td>0</td>\n",
       "      <td>373450</td>\n",
       "      <td>8.0500</td>\n",
       "      <td>NaN</td>\n",
       "      <td>S</td>\n",
       "    </tr>\n",
       "  </tbody>\n",
       "</table>\n",
       "</div>"
      ],
      "text/plain": [
       "   PassengerId  Survived  Pclass  \\\n",
       "0            1         0       3   \n",
       "1            2         1       1   \n",
       "2            3         1       3   \n",
       "3            4         1       1   \n",
       "4            5         0       3   \n",
       "\n",
       "                                                Name     Sex   Age  SibSp  \\\n",
       "0                            Braund, Mr. Owen Harris    male  22.0      1   \n",
       "1  Cumings, Mrs. John Bradley (Florence Briggs Th...  female  38.0      1   \n",
       "2                             Heikkinen, Miss. Laina  female  26.0      0   \n",
       "3       Futrelle, Mrs. Jacques Heath (Lily May Peel)  female  35.0      1   \n",
       "4                           Allen, Mr. William Henry    male  35.0      0   \n",
       "\n",
       "   Parch            Ticket     Fare Cabin Embarked  \n",
       "0      0         A/5 21171   7.2500   NaN        S  \n",
       "1      0          PC 17599  71.2833   C85        C  \n",
       "2      0  STON/O2. 3101282   7.9250   NaN        S  \n",
       "3      0            113803  53.1000  C123        S  \n",
       "4      0            373450   8.0500   NaN        S  "
      ]
     },
     "execution_count": 1,
     "metadata": {},
     "output_type": "execute_result"
    }
   ],
   "source": [
    "#imports\n",
    "import pandas as pd\n",
    "import numpy as np\n",
    "import seaborn as sns\n",
    "import matplotlib.pyplot as plt\n",
    "\n",
    "import random\n",
    "\n",
    "%matplotlib inline\n",
    "\n",
    "#read dataframe\n",
    "df = pd.read_csv('titanic data.csv')\n",
    "df.head()"
   ]
  },
  {
   "cell_type": "code",
   "execution_count": 2,
   "metadata": {
    "scrolled": true
   },
   "outputs": [
    {
     "name": "stdout",
     "output_type": "stream",
     "text": [
      "Female survival rate:  74.20382165605095\n",
      "Male survival rate:  18.890814558058924\n"
     ]
    },
    {
     "data": {
      "image/png": "[encoded data removed]",
      "text/plain": [
       "<Figure size 432x288 with 1 Axes>"
      ]
     },
     "metadata": {
      "needs_background": "light"
     },
     "output_type": "display_data"
    }
   ],
   "source": [
    "#Show relationship between sex and survival \n",
    "sns.barplot(x=df['Sex'], y=df['Survived'])\n",
    "print('Female survival rate: ', df['Survived'][df['Sex']=='female'].value_counts(normalize='true')[1]*100)\n",
    "print('Male survival rate: ', df['Survived'][df['Sex']=='male'].value_counts(normalize='true')[1]*100)\n"
   ]
  },
  {
   "cell_type": "code",
   "execution_count": 3,
   "metadata": {},
   "outputs": [
    {
     "name": "stdout",
     "output_type": "stream",
     "text": [
      "Percentage of Class 1 survived:  62.96296296296296\n",
      "Percentage of Class 2 survived:  47.28260869565217\n",
      "Percentage of Class 3 survived:  24.236252545824847\n"
     ]
    },
    {
     "data": {
      "image/png": "[encoded data removed]",
      "text/plain": [
       "<Figure size 432x288 with 1 Axes>"
      ]
     },
     "metadata": {
      "needs_background": "light"
     },
     "output_type": "display_data"
    }
   ],
   "source": [
    "#Show relationship between Passenger Class and Survival\n",
    "sns.barplot(x=df['Pclass'], y=df['Survived'])\n",
    "\n",
    "print('Percentage of Class 1 survived: ', df['Survived'][df['Pclass']==1].value_counts(normalize='true')[1]*100)\n",
    "print('Percentage of Class 2 survived: ', df['Survived'][df['Pclass']==2].value_counts(normalize='true')[1]*100)\n",
    "print('Percentage of Class 3 survived: ', df['Survived'][df['Pclass']==3].value_counts(normalize='true')[1]*100)"
   ]
  },
  {
   "cell_type": "code",
   "execution_count": 4,
   "metadata": {},
   "outputs": [
    {
     "name": "stdout",
     "output_type": "stream",
     "text": [
      "Percentage of passenger with 0 siblings or spouses:  34.53947368421053\n",
      "Percentage of passenger with 1 sibling or spouse:  53.588516746411486\n",
      "Percentage of passenger with 2 siblings or spouses:  46.42857142857143\n",
      "Percentage of passenger with 3 siblings or spouses:  25.0\n",
      "Percentage of passenger with 4 siblings or spouses:  16.666666666666664\n"
     ]
    },
    {
     "data": {
      "image/png": "[encoded data removed]",
      "text/plain": [
       "<Figure size 432x288 with 1 Axes>"
      ]
     },
     "metadata": {
      "needs_background": "light"
     },
     "output_type": "display_data"
    }
   ],
   "source": [
    "#Show relationship between sibling/spouses and survival\n",
    "sns.barplot(x=df['SibSp'], y=df['Survived'])\n",
    "\n",
    "print('Percentage of passenger with 0 siblings or spouses: ', df['Survived'][df['SibSp']==0].value_counts(normalize='true')[1]*100)\n",
    "print('Percentage of passenger with 1 sibling or spouse: ', df['Survived'][df['SibSp']==1].value_counts(normalize='true')[1]*100)\n",
    "print('Percentage of passenger with 2 siblings or spouses: ', df['Survived'][df['SibSp']==2].value_counts(normalize='true')[1]*100)\n",
    "print('Percentage of passenger with 3 siblings or spouses: ', df['Survived'][df['SibSp']==3].value_counts(normalize='true')[1]*100)\n",
    "print('Percentage of passenger with 4 siblings or spouses: ', df['Survived'][df['SibSp']==4].value_counts(normalize='true')[1]*100)"
   ]
  },
  {
   "cell_type": "code",
   "execution_count": 5,
   "metadata": {},
   "outputs": [
    {
     "name": "stdout",
     "output_type": "stream",
     "text": [
      "Percentage of Passengers with 0 parents or children who survived:  34.365781710914455\n",
      "Percentage of Passengers with 1 parents or children who survived:  55.08474576271186\n",
      "Percentage of Passengers with 2 parents or children who survived:  50.0\n",
      "Percentage of Passengers with 3 parents or children who survived:  60.0\n",
      "Percentage of Passengers with 5 parents or children who survived:  20.0\n"
     ]
    },
    {
     "data": {
      "image/png": "[encoded data removed]",
      "text/plain": [
       "<Figure size 432x288 with 1 Axes>"
      ]
     },
     "metadata": {
      "needs_background": "light"
     },
     "output_type": "display_data"
    }
   ],
   "source": [
    "#Relationship between Parents and Children and Survival\n",
    "sns.barplot(x=df['Parch'], y=df['Survived'])\n",
    "\n",
    "print('Percentage of Passengers with 0 parents or children who survived: ', df['Survived'][df['Parch']==0].value_counts(normalize='true')[1]*100)\n",
    "print('Percentage of Passengers with 1 parents or children who survived: ', df['Survived'][df['Parch']==1].value_counts(normalize='true')[1]*100)\n",
    "print('Percentage of Passengers with 2 parents or children who survived: ', df['Survived'][df['Parch']==2].value_counts(normalize='true')[1]*100)\n",
    "print('Percentage of Passengers with 3 parents or children who survived: ', df['Survived'][df['Parch']==3].value_counts(normalize='true')[1]*100)\n",
    "#print('Percentage of Passengers with 4 parents or children who survived: ', df['Survived'][df['Parch']==4].value_counts(normalize='true')[1]*100)\n",
    "print('Percentage of Passengers with 5 parents or children who survived: ', df['Survived'][df['Parch']==5].value_counts(normalize='true')[1]*100)\n",
    "\n"
   ]
  },
  {
   "cell_type": "code",
   "execution_count": 6,
   "metadata": {},
   "outputs": [
    {
     "data": {
      "text/plain": [
       "<matplotlib.axes._subplots.AxesSubplot at 0x1a6775b43c8>"
      ]
     },
     "execution_count": 6,
     "metadata": {},
     "output_type": "execute_result"
    },
    {
     "data": {
      "image/png": "[encoded data removed]",
      "text/plain": [
       "<Figure size 432x288 with 1 Axes>"
      ]
     },
     "metadata": {
      "needs_background": "light"
     },
     "output_type": "display_data"
    }
   ],
   "source": [
    "#Split up age into age groups\n",
    "df['Age'] = df['Age'].fillna(-0.5)\n",
    "bins = [-1, 0, 5, 12, 18, 24, 35, 60, np.inf]\n",
    "labels = ['Unavailable', 'Babies', 'Children', 'Teenagers', 'Students', 'Young adults', 'Adults', 'Elderly']\n",
    "\n",
    "df['Age Group'] = pd.cut(x=df['Age'], bins=bins, labels=labels)\n",
    "\n",
    "sns.barplot(x=df['Age Group'], y=df['Survived'])"
   ]
  },
  {
   "cell_type": "code",
   "execution_count": 7,
   "metadata": {},
   "outputs": [
    {
     "name": "stdout",
     "output_type": "stream",
     "text": [
      "Percentage of survival of higher socioeconomic class:  66.66666666666666\n",
      "Percentage of survival of lower socioeconomic class:  29.985443959243085\n"
     ]
    },
    {
     "data": {
      "image/png": "[encoded data removed]",
      "text/plain": [
       "<Figure size 432x288 with 1 Axes>"
      ]
     },
     "metadata": {
      "needs_background": "light"
     },
     "output_type": "display_data"
    }
   ],
   "source": [
    "#For any datapoint that has a cabin, we can assume that they are of a higher socioeconomic class. We are testing its relationship with survival\n",
    "df['CabinBool'] = df['Cabin'].notnull().astype('int')\n",
    "\n",
    "sns.barplot(x=df['CabinBool'], y=df['Survived'])\n",
    "\n",
    "print('Percentage of survival of higher socioeconomic class: ', df['Survived'][df['CabinBool']==1].value_counts(normalize='true')[1]*100)\n",
    "print('Percentage of survival of lower socioeconomic class: ', df['Survived'][df['CabinBool']==0].value_counts(normalize='true')[1]*100)\n"
   ]
  },
  {
   "cell_type": "code",
   "execution_count": 8,
   "metadata": {},
   "outputs": [
    {
     "name": "stderr",
     "output_type": "stream",
     "text": [
      "C:\\Users\\sampr\\anaconda3\\lib\\site-packages\\ipykernel_launcher.py:4: SettingWithCopyWarning: \n",
      "A value is trying to be set on a copy of a slice from a DataFrame\n",
      "\n",
      "See the caveats in the documentation: https://pandas.pydata.org/pandas-docs/stable/user_guide/indexing.html#returning-a-view-versus-a-copy\n",
      "  after removing the cwd from sys.path.\n"
     ]
    }
   ],
   "source": [
    "#Converting -0.5 age values back to NaN\n",
    "for i in range(len(df['Age'])):\n",
    "    if (df['Age'][i]==-0.5):\n",
    "        df['Age'][i]='NaN'"
   ]
  },
  {
   "cell_type": "code",
   "execution_count": 9,
   "metadata": {},
   "outputs": [
    {
     "data": {
      "text/html": [
       "<div>\n",
       "<style scoped>\n",
       "    .dataframe tbody tr th:only-of-type {\n",
       "        vertical-align: middle;\n",
       "    }\n",
       "\n",
       "    .dataframe tbody tr th {\n",
       "        vertical-align: top;\n",
       "    }\n",
       "\n",
       "    .dataframe thead th {\n",
       "        text-align: right;\n",
       "    }\n",
       "</style>\n",
       "<table border=\"1\" class=\"dataframe\">\n",
       "  <thead>\n",
       "    <tr style=\"text-align: right;\">\n",
       "      <th></th>\n",
       "      <th>PassengerId</th>\n",
       "      <th>Survived</th>\n",
       "      <th>Pclass</th>\n",
       "      <th>Name</th>\n",
       "      <th>Sex</th>\n",
       "      <th>Age</th>\n",
       "      <th>SibSp</th>\n",
       "      <th>Parch</th>\n",
       "      <th>Ticket</th>\n",
       "      <th>Fare</th>\n",
       "      <th>Embarked</th>\n",
       "      <th>Age Group</th>\n",
       "      <th>CabinBool</th>\n",
       "    </tr>\n",
       "  </thead>\n",
       "  <tbody>\n",
       "    <tr>\n",
       "      <th>0</th>\n",
       "      <td>1</td>\n",
       "      <td>0</td>\n",
       "      <td>3</td>\n",
       "      <td>Braund, Mr. Owen Harris</td>\n",
       "      <td>male</td>\n",
       "      <td>22.0</td>\n",
       "      <td>1</td>\n",
       "      <td>0</td>\n",
       "      <td>A/5 21171</td>\n",
       "      <td>7.2500</td>\n",
       "      <td>S</td>\n",
       "      <td>Students</td>\n",
       "      <td>0</td>\n",
       "    </tr>\n",
       "    <tr>\n",
       "      <th>1</th>\n",
       "      <td>2</td>\n",
       "      <td>1</td>\n",
       "      <td>1</td>\n",
       "      <td>Cumings, Mrs. John Bradley (Florence Briggs Th...</td>\n",
       "      <td>female</td>\n",
       "      <td>38.0</td>\n",
       "      <td>1</td>\n",
       "      <td>0</td>\n",
       "      <td>PC 17599</td>\n",
       "      <td>71.2833</td>\n",
       "      <td>C</td>\n",
       "      <td>Adults</td>\n",
       "      <td>1</td>\n",
       "    </tr>\n",
       "    <tr>\n",
       "      <th>2</th>\n",
       "      <td>3</td>\n",
       "      <td>1</td>\n",
       "      <td>3</td>\n",
       "      <td>Heikkinen, Miss. Laina</td>\n",
       "      <td>female</td>\n",
       "      <td>26.0</td>\n",
       "      <td>0</td>\n",
       "      <td>0</td>\n",
       "      <td>STON/O2. 3101282</td>\n",
       "      <td>7.9250</td>\n",
       "      <td>S</td>\n",
       "      <td>Young adults</td>\n",
       "      <td>0</td>\n",
       "    </tr>\n",
       "    <tr>\n",
       "      <th>3</th>\n",
       "      <td>4</td>\n",
       "      <td>1</td>\n",
       "      <td>1</td>\n",
       "      <td>Futrelle, Mrs. Jacques Heath (Lily May Peel)</td>\n",
       "      <td>female</td>\n",
       "      <td>35.0</td>\n",
       "      <td>1</td>\n",
       "      <td>0</td>\n",
       "      <td>113803</td>\n",
       "      <td>53.1000</td>\n",
       "      <td>S</td>\n",
       "      <td>Young adults</td>\n",
       "      <td>1</td>\n",
       "    </tr>\n",
       "    <tr>\n",
       "      <th>4</th>\n",
       "      <td>5</td>\n",
       "      <td>0</td>\n",
       "      <td>3</td>\n",
       "      <td>Allen, Mr. William Henry</td>\n",
       "      <td>male</td>\n",
       "      <td>35.0</td>\n",
       "      <td>0</td>\n",
       "      <td>0</td>\n",
       "      <td>373450</td>\n",
       "      <td>8.0500</td>\n",
       "      <td>S</td>\n",
       "      <td>Young adults</td>\n",
       "      <td>0</td>\n",
       "    </tr>\n",
       "    <tr>\n",
       "      <th>...</th>\n",
       "      <td>...</td>\n",
       "      <td>...</td>\n",
       "      <td>...</td>\n",
       "      <td>...</td>\n",
       "      <td>...</td>\n",
       "      <td>...</td>\n",
       "      <td>...</td>\n",
       "      <td>...</td>\n",
       "      <td>...</td>\n",
       "      <td>...</td>\n",
       "      <td>...</td>\n",
       "      <td>...</td>\n",
       "      <td>...</td>\n",
       "    </tr>\n",
       "    <tr>\n",
       "      <th>886</th>\n",
       "      <td>887</td>\n",
       "      <td>0</td>\n",
       "      <td>2</td>\n",
       "      <td>Montvila, Rev. Juozas</td>\n",
       "      <td>male</td>\n",
       "      <td>27.0</td>\n",
       "      <td>0</td>\n",
       "      <td>0</td>\n",
       "      <td>211536</td>\n",
       "      <td>13.0000</td>\n",
       "      <td>S</td>\n",
       "      <td>Young adults</td>\n",
       "      <td>0</td>\n",
       "    </tr>\n",
       "    <tr>\n",
       "      <th>887</th>\n",
       "      <td>888</td>\n",
       "      <td>1</td>\n",
       "      <td>1</td>\n",
       "      <td>Graham, Miss. Margaret Edith</td>\n",
       "      <td>female</td>\n",
       "      <td>19.0</td>\n",
       "      <td>0</td>\n",
       "      <td>0</td>\n",
       "      <td>112053</td>\n",
       "      <td>30.0000</td>\n",
       "      <td>S</td>\n",
       "      <td>Students</td>\n",
       "      <td>1</td>\n",
       "    </tr>\n",
       "    <tr>\n",
       "      <th>888</th>\n",
       "      <td>889</td>\n",
       "      <td>0</td>\n",
       "      <td>3</td>\n",
       "      <td>Johnston, Miss. Catherine Helen \"Carrie\"</td>\n",
       "      <td>female</td>\n",
       "      <td>NaN</td>\n",
       "      <td>1</td>\n",
       "      <td>2</td>\n",
       "      <td>W./C. 6607</td>\n",
       "      <td>23.4500</td>\n",
       "      <td>S</td>\n",
       "      <td>Unavailable</td>\n",
       "      <td>0</td>\n",
       "    </tr>\n",
       "    <tr>\n",
       "      <th>889</th>\n",
       "      <td>890</td>\n",
       "      <td>1</td>\n",
       "      <td>1</td>\n",
       "      <td>Behr, Mr. Karl Howell</td>\n",
       "      <td>male</td>\n",
       "      <td>26.0</td>\n",
       "      <td>0</td>\n",
       "      <td>0</td>\n",
       "      <td>111369</td>\n",
       "      <td>30.0000</td>\n",
       "      <td>C</td>\n",
       "      <td>Young adults</td>\n",
       "      <td>1</td>\n",
       "    </tr>\n",
       "    <tr>\n",
       "      <th>890</th>\n",
       "      <td>891</td>\n",
       "      <td>0</td>\n",
       "      <td>3</td>\n",
       "      <td>Dooley, Mr. Patrick</td>\n",
       "      <td>male</td>\n",
       "      <td>32.0</td>\n",
       "      <td>0</td>\n",
       "      <td>0</td>\n",
       "      <td>370376</td>\n",
       "      <td>7.7500</td>\n",
       "      <td>Q</td>\n",
       "      <td>Young adults</td>\n",
       "      <td>0</td>\n",
       "    </tr>\n",
       "  </tbody>\n",
       "</table>\n",
       "<p>891 rows × 13 columns</p>\n",
       "</div>"
      ],
      "text/plain": [
       "     PassengerId  Survived  Pclass  \\\n",
       "0              1         0       3   \n",
       "1              2         1       1   \n",
       "2              3         1       3   \n",
       "3              4         1       1   \n",
       "4              5         0       3   \n",
       "..           ...       ...     ...   \n",
       "886          887         0       2   \n",
       "887          888         1       1   \n",
       "888          889         0       3   \n",
       "889          890         1       1   \n",
       "890          891         0       3   \n",
       "\n",
       "                                                  Name     Sex   Age  SibSp  \\\n",
       "0                              Braund, Mr. Owen Harris    male  22.0      1   \n",
       "1    Cumings, Mrs. John Bradley (Florence Briggs Th...  female  38.0      1   \n",
       "2                               Heikkinen, Miss. Laina  female  26.0      0   \n",
       "3         Futrelle, Mrs. Jacques Heath (Lily May Peel)  female  35.0      1   \n",
       "4                             Allen, Mr. William Henry    male  35.0      0   \n",
       "..                                                 ...     ...   ...    ...   \n",
       "886                              Montvila, Rev. Juozas    male  27.0      0   \n",
       "887                       Graham, Miss. Margaret Edith  female  19.0      0   \n",
       "888           Johnston, Miss. Catherine Helen \"Carrie\"  female   NaN      1   \n",
       "889                              Behr, Mr. Karl Howell    male  26.0      0   \n",
       "890                                Dooley, Mr. Patrick    male  32.0      0   \n",
       "\n",
       "     Parch            Ticket     Fare Embarked     Age Group  CabinBool  \n",
       "0        0         A/5 21171   7.2500        S      Students          0  \n",
       "1        0          PC 17599  71.2833        C        Adults          1  \n",
       "2        0  STON/O2. 3101282   7.9250        S  Young adults          0  \n",
       "3        0            113803  53.1000        S  Young adults          1  \n",
       "4        0            373450   8.0500        S  Young adults          0  \n",
       "..     ...               ...      ...      ...           ...        ...  \n",
       "886      0            211536  13.0000        S  Young adults          0  \n",
       "887      0            112053  30.0000        S      Students          1  \n",
       "888      2        W./C. 6607  23.4500        S   Unavailable          0  \n",
       "889      0            111369  30.0000        C  Young adults          1  \n",
       "890      0            370376   7.7500        Q  Young adults          0  \n",
       "\n",
       "[891 rows x 13 columns]"
      ]
     },
     "execution_count": 9,
     "metadata": {},
     "output_type": "execute_result"
    }
   ],
   "source": [
    "#Drop the ticket and cabin columns\n",
    "df.drop('Ticket', axis=1)\n",
    "df.drop('Cabin', axis=1)"
   ]
  },
  {
   "cell_type": "code",
   "execution_count": 10,
   "metadata": {},
   "outputs": [
    {
     "data": {
      "text/plain": [
       "S    644\n",
       "C    168\n",
       "Q     77\n",
       "Name: Embarked, dtype: int64"
      ]
     },
     "execution_count": 10,
     "metadata": {},
     "output_type": "execute_result"
    }
   ],
   "source": [
    "#Checking what values of embarked are in majority\n",
    "df['Embarked'].value_counts()"
   ]
  },
  {
   "cell_type": "code",
   "execution_count": 11,
   "metadata": {},
   "outputs": [
    {
     "data": {
      "text/plain": [
       "False    891\n",
       "Name: Embarked, dtype: int64"
      ]
     },
     "execution_count": 11,
     "metadata": {},
     "output_type": "execute_result"
    }
   ],
   "source": [
    "#S is in majority, therefore, we can fill in the to NA values with S\n",
    "df['Embarked'] = df['Embarked'].fillna('S')\n",
    "df['Embarked'].isnull().value_counts()"
   ]
  },
  {
   "cell_type": "code",
   "execution_count": 12,
   "metadata": {},
   "outputs": [],
   "source": [
    "#Converting sex to binary/numerical values\n",
    "df['Sex'] = df['Sex'].map({'male':0, 'female':1})"
   ]
  },
  {
   "cell_type": "code",
   "execution_count": 13,
   "metadata": {},
   "outputs": [],
   "source": [
    "#Converting Embarked to numerical values\n",
    "df['Embarked']=df['Embarked'].map({'S':1, 'C':2, 'Q':77})"
   ]
  },
  {
   "cell_type": "code",
   "execution_count": 14,
   "metadata": {},
   "outputs": [],
   "source": [
    "#Filling age NaN values, and split into bands    12-32\n",
    "df['Age'] = df['Age'].fillna(random.randint(12, 32))\n",
    "df.head()\n",
    "\n",
    "bins = [0, 5, 12, 18, 25, 40, np.inf]\n",
    "labels = ['Baby', 'Child', 'Teenager', 'Young adult', 'Adult', 'Elderly']\n",
    "\n",
    "df['Age'] = pd.cut(df['Age'], bins=bins, labels=labels)\n",
    "\n",
    "df['Age'] = df['Age'].map({'Baby':1, 'Child':2, 'Teenager':3, 'Young adult':4, 'Adult':5, 'Elderly':6})"
   ]
  },
  {
   "cell_type": "code",
   "execution_count": 15,
   "metadata": {},
   "outputs": [],
   "source": [
    "df.drop(labels=['Name', 'Age Group', 'Ticket', 'Cabin'], axis=1, inplace=True)"
   ]
  },
  {
   "cell_type": "code",
   "execution_count": 16,
   "metadata": {},
   "outputs": [],
   "source": [
    "#MODEL BUILDING\n",
    "#Train, test split:\n",
    "from sklearn.model_selection import train_test_split\n",
    "X = df.drop(labels='Survived', axis=1)\n",
    "y = df['Survived']\n",
    "X_train, X_test, y_train, y_test = train_test_split(X, y, test_size=0.3)"
   ]
  },
  {
   "cell_type": "code",
   "execution_count": 17,
   "metadata": {},
   "outputs": [
    {
     "name": "stdout",
     "output_type": "stream",
     "text": [
      "Confusion Matrix: \n",
      " [[150  23]\n",
      " [ 29  66]]\n",
      "Classification Report: \n",
      "               precision    recall  f1-score   support\n",
      "\n",
      "           0       0.84      0.87      0.85       173\n",
      "           1       0.74      0.69      0.72        95\n",
      "\n",
      "    accuracy                           0.81       268\n",
      "   macro avg       0.79      0.78      0.78       268\n",
      "weighted avg       0.80      0.81      0.80       268\n",
      "\n",
      "Accuracy Score: \n",
      " 80.60000000000001\n"
     ]
    },
    {
     "name": "stderr",
     "output_type": "stream",
     "text": [
      "C:\\Users\\sampr\\anaconda3\\lib\\site-packages\\sklearn\\linear_model\\_logistic.py:940: ConvergenceWarning: lbfgs failed to converge (status=1):\n",
      "STOP: TOTAL NO. of ITERATIONS REACHED LIMIT.\n",
      "\n",
      "Increase the number of iterations (max_iter) or scale the data as shown in:\n",
      "    https://scikit-learn.org/stable/modules/preprocessing.html\n",
      "Please also refer to the documentation for alternative solver options:\n",
      "    https://scikit-learn.org/stable/modules/linear_model.html#logistic-regression\n",
      "  extra_warning_msg=_LOGISTIC_SOLVER_CONVERGENCE_MSG)\n"
     ]
    }
   ],
   "source": [
    "#Logistic regression\n",
    "from sklearn.linear_model import LogisticRegression\n",
    "from sklearn.metrics import confusion_matrix, classification_report, accuracy_score\n",
    "\n",
    "\n",
    "LogisticRegressionModel = LogisticRegression()\n",
    "\n",
    "LogisticRegressionModel.fit(X_train, y_train)\n",
    "LogisticRegressionPredictions = LogisticRegressionModel.predict(X_test)\n",
    "\n",
    "print('Confusion Matrix: \\n', confusion_matrix(y_test, LogisticRegressionPredictions))\n",
    "print('Classification Report: \\n', classification_report(y_test, LogisticRegressionPredictions))\n",
    "print('Accuracy Score: \\n', round(accuracy_score(y_test, LogisticRegressionPredictions), 4)*100)\n",
    "LogisticRegressionAccuracy = round(accuracy_score(y_test, LogisticRegressionPredictions), 4)*100"
   ]
  },
  {
   "cell_type": "code",
   "execution_count": 18,
   "metadata": {},
   "outputs": [
    {
     "name": "stdout",
     "output_type": "stream",
     "text": [
      "Confusion matrix: \n",
      " [[169   4]\n",
      " [ 82  13]]\n",
      "Classification report: \n",
      "               precision    recall  f1-score   support\n",
      "\n",
      "           0       0.67      0.98      0.80       173\n",
      "           1       0.76      0.14      0.23        95\n",
      "\n",
      "    accuracy                           0.68       268\n",
      "   macro avg       0.72      0.56      0.51       268\n",
      "weighted avg       0.71      0.68      0.60       268\n",
      "\n",
      "Accuracy score: \n",
      " 67.91\n"
     ]
    }
   ],
   "source": [
    "#SVC model\n",
    "from sklearn.svm import SVC\n",
    "\n",
    "SvcModel = SVC()\n",
    "\n",
    "SvcModel.fit(X_train, y_train)\n",
    "SvcPredictions = SvcModel.predict(X_test)\n",
    "\n",
    "print('Confusion matrix: \\n', confusion_matrix(y_test, SvcPredictions))\n",
    "print('Classification report: \\n', classification_report(y_test, SvcPredictions))\n",
    "print('Accuracy score: \\n', round(accuracy_score(y_test, SvcPredictions),4)*100)\n",
    "SvcAccuracy = round(accuracy_score(y_test, SvcPredictions),4)*100"
   ]
  },
  {
   "cell_type": "code",
   "execution_count": 19,
   "metadata": {},
   "outputs": [
    {
     "name": "stdout",
     "output_type": "stream",
     "text": [
      "Confusion matrix: \n",
      " [[143  30]\n",
      " [ 31  64]]\n",
      "Classification report: \n",
      "               precision    recall  f1-score   support\n",
      "\n",
      "           0       0.82      0.83      0.82       173\n",
      "           1       0.68      0.67      0.68        95\n",
      "\n",
      "    accuracy                           0.77       268\n",
      "   macro avg       0.75      0.75      0.75       268\n",
      "weighted avg       0.77      0.77      0.77       268\n",
      "\n",
      "Accuracy score: \n",
      " 77.24\n"
     ]
    }
   ],
   "source": [
    "#Decision Tree\n",
    "from sklearn.tree import DecisionTreeClassifier\n",
    "\n",
    "DecisionTreeModel = DecisionTreeClassifier()\n",
    "\n",
    "DecisionTreeModel.fit(X_train, y_train)\n",
    "DecisionTreePredictions = DecisionTreeModel.predict(X_test)\n",
    "\n",
    "print('Confusion matrix: \\n', confusion_matrix(y_test, DecisionTreePredictions))\n",
    "print('Classification report: \\n', classification_report(y_test, DecisionTreePredictions))\n",
    "print('Accuracy score: \\n', round(accuracy_score(y_test, DecisionTreePredictions),4)*100)\n",
    "DecisionTreeAccuracy = round(accuracy_score(y_test, DecisionTreePredictions),4)*100"
   ]
  },
  {
   "cell_type": "code",
   "execution_count": 20,
   "metadata": {},
   "outputs": [
    {
     "name": "stdout",
     "output_type": "stream",
     "text": [
      "Confusion matrix: \n",
      " [[148  25]\n",
      " [ 24  71]]\n",
      "Classification report: \n",
      "               precision    recall  f1-score   support\n",
      "\n",
      "           0       0.86      0.86      0.86       173\n",
      "           1       0.74      0.75      0.74        95\n",
      "\n",
      "    accuracy                           0.82       268\n",
      "   macro avg       0.80      0.80      0.80       268\n",
      "weighted avg       0.82      0.82      0.82       268\n",
      "\n",
      "Accuracy score: \n",
      " 81.72\n"
     ]
    }
   ],
   "source": [
    "#Random Forest model\n",
    "from sklearn.ensemble import RandomForestClassifier\n",
    "\n",
    "RandomForestModel = RandomForestClassifier()\n",
    "\n",
    "RandomForestModel.fit(X_train, y_train)\n",
    "RandomForestPredictions = RandomForestModel.predict(X_test)\n",
    "\n",
    "print('Confusion matrix: \\n', confusion_matrix(y_test, RandomForestPredictions))\n",
    "print('Classification report: \\n', classification_report(y_test, RandomForestPredictions))\n",
    "print('Accuracy score: \\n', round(accuracy_score(y_test, RandomForestPredictions),4)*100)\n",
    "RandomForestAccuracy = round(accuracy_score(y_test, RandomForestPredictions),4)*100"
   ]
  },
  {
   "cell_type": "code",
   "execution_count": 21,
   "metadata": {},
   "outputs": [
    {
     "name": "stdout",
     "output_type": "stream",
     "text": [
      "Confusion matrix: \n",
      " [[130  43]\n",
      " [ 47  48]]\n",
      "Classification report: \n",
      "               precision    recall  f1-score   support\n",
      "\n",
      "           0       0.73      0.75      0.74       173\n",
      "           1       0.53      0.51      0.52        95\n",
      "\n",
      "    accuracy                           0.66       268\n",
      "   macro avg       0.63      0.63      0.63       268\n",
      "weighted avg       0.66      0.66      0.66       268\n",
      "\n",
      "Accuracy score: \n",
      " 66.42\n"
     ]
    }
   ],
   "source": [
    "#K-Nearest Neighbor model\n",
    "from sklearn.neighbors import KNeighborsClassifier\n",
    "\n",
    "KnnModel = KNeighborsClassifier()\n",
    "\n",
    "KnnModel.fit(X_train, y_train)\n",
    "KnnPredictions = KnnModel.predict(X_test)\n",
    "\n",
    "print('Confusion matrix: \\n', confusion_matrix(y_test, KnnPredictions))\n",
    "print('Classification report: \\n', classification_report(y_test, KnnPredictions))\n",
    "print('Accuracy score: \\n', round(accuracy_score(y_test, KnnPredictions),4)*100)\n",
    "KnnAccuracy = round(accuracy_score(y_test, KnnPredictions),4)*100"
   ]
  },
  {
   "cell_type": "code",
   "execution_count": 22,
   "metadata": {},
   "outputs": [
    {
     "name": "stdout",
     "output_type": "stream",
     "text": [
      "Confusion matrix: \n",
      " [[152  21]\n",
      " [ 26  69]]\n",
      "Classification report: \n",
      "               precision    recall  f1-score   support\n",
      "\n",
      "           0       0.85      0.88      0.87       173\n",
      "           1       0.77      0.73      0.75        95\n",
      "\n",
      "    accuracy                           0.82       268\n",
      "   macro avg       0.81      0.80      0.81       268\n",
      "weighted avg       0.82      0.82      0.82       268\n",
      "\n",
      "Accuracy score: \n",
      " 82.46\n"
     ]
    }
   ],
   "source": [
    "#Gradient Booster Classifier\n",
    "from sklearn.ensemble import GradientBoostingClassifier\n",
    "\n",
    "GradientBoosterModel = GradientBoostingClassifier()\n",
    "\n",
    "GradientBoosterModel.fit(X_train, y_train)\n",
    "GradientBoosterPredictions = GradientBoosterModel.predict(X_test)\n",
    "\n",
    "print('Confusion matrix: \\n', confusion_matrix(y_test, GradientBoosterPredictions))\n",
    "print('Classification report: \\n', classification_report(y_test, GradientBoosterPredictions))\n",
    "print('Accuracy score: \\n', round(accuracy_score(y_test, GradientBoosterPredictions),4)*100)\n",
    "GradientBoosterAccuracy = round(accuracy_score(y_test, GradientBoosterPredictions),4)*100"
   ]
  },
  {
   "cell_type": "code",
   "execution_count": 23,
   "metadata": {},
   "outputs": [
    {
     "data": {
      "text/html": [
       "<div>\n",
       "<style scoped>\n",
       "    .dataframe tbody tr th:only-of-type {\n",
       "        vertical-align: middle;\n",
       "    }\n",
       "\n",
       "    .dataframe tbody tr th {\n",
       "        vertical-align: top;\n",
       "    }\n",
       "\n",
       "    .dataframe thead th {\n",
       "        text-align: right;\n",
       "    }\n",
       "</style>\n",
       "<table border=\"1\" class=\"dataframe\">\n",
       "  <thead>\n",
       "    <tr style=\"text-align: right;\">\n",
       "      <th></th>\n",
       "      <th>Models</th>\n",
       "      <th>Accuracy</th>\n",
       "    </tr>\n",
       "  </thead>\n",
       "  <tbody>\n",
       "    <tr>\n",
       "      <th>5</th>\n",
       "      <td>Gradient Booster</td>\n",
       "      <td>82.46</td>\n",
       "    </tr>\n",
       "    <tr>\n",
       "      <th>3</th>\n",
       "      <td>Random Forest</td>\n",
       "      <td>81.72</td>\n",
       "    </tr>\n",
       "    <tr>\n",
       "      <th>0</th>\n",
       "      <td>Logistic Regression</td>\n",
       "      <td>80.60</td>\n",
       "    </tr>\n",
       "    <tr>\n",
       "      <th>2</th>\n",
       "      <td>Decision Tree</td>\n",
       "      <td>77.24</td>\n",
       "    </tr>\n",
       "    <tr>\n",
       "      <th>1</th>\n",
       "      <td>SVC</td>\n",
       "      <td>67.91</td>\n",
       "    </tr>\n",
       "    <tr>\n",
       "      <th>4</th>\n",
       "      <td>K-NN</td>\n",
       "      <td>66.42</td>\n",
       "    </tr>\n",
       "  </tbody>\n",
       "</table>\n",
       "</div>"
      ],
      "text/plain": [
       "                Models  Accuracy\n",
       "5     Gradient Booster     82.46\n",
       "3        Random Forest     81.72\n",
       "0  Logistic Regression     80.60\n",
       "2        Decision Tree     77.24\n",
       "1                  SVC     67.91\n",
       "4                 K-NN     66.42"
      ]
     },
     "execution_count": 23,
     "metadata": {},
     "output_type": "execute_result"
    }
   ],
   "source": [
    "FinalComparisionDf = pd.DataFrame({'Models' : ['Logistic Regression', 'SVC', 'Decision Tree', 'Random Forest', 'K-NN', 'Gradient Booster'], \n",
    "                                 'Accuracy' : [LogisticRegressionAccuracy, SvcAccuracy, DecisionTreeAccuracy, RandomForestAccuracy, KnnAccuracy, GradientBoosterAccuracy]})\n",
    "FinalComparisionDf.sort_values(by='Accuracy', ascending=False)"
   ]
  }
 ],
 "metadata": {
  "kernelspec": {
   "display_name": "Python 3",
   "language": "python",
   "name": "python3"
  },
  "language_info": {
   "codemirror_mode": {
    "name": "ipython",
    "version": 3
   },
   "file_extension": ".py",
   "mimetype": "text/x-python",
   "name": "python",
   "nbconvert_exporter": "python",
   "pygments_lexer": "ipython3",
   "version": "3.7.6"
  }
 },
 "nbformat": 4,
 "nbformat_minor": 4
}
